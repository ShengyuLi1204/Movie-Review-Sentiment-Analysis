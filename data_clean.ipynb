{
 "cells": [
  {
   "cell_type": "markdown",
   "metadata": {},
   "source": [
    "# Data: Large Movie Review Dataset"
   ]
  },
  {
   "cell_type": "markdown",
   "metadata": {},
   "source": [
    "The dataset is posted on https://ai.stanford.edu/~amaas/data/sentiment/ from a published paper cited below. "
   ]
  },
  {
   "cell_type": "markdown",
   "metadata": {},
   "source": [
    "## Overview\n",
    "This dataset contains movie reviews along with their associated binary\n",
    "sentiment polarity labels. It is intended to serve as a benchmark for\n",
    "sentiment classification. This document outlines how the dataset was\n",
    "gathered, and how to use the files provided. \n",
    "\n",
    "## Dataset \n",
    "The core dataset contains 50,000 reviews split evenly into 25k train\n",
    "and 25k test sets. The overall distribution of labels is balanced (25k\n",
    "pos and 25k neg). In the entire collection, no more than 30 reviews are \n",
    "allowed for any given movie because reviews for the same movie tend to \n",
    "have correlated ratings. \n",
    "\n",
    "## Citation\n",
    "In order to use this dataset, we cite ACL 2011 paper which introduces it."
   ]
  },
  {
   "cell_type": "raw",
   "metadata": {},
   "source": [
    "@InProceedings{maas-EtAl:2011:ACL-HLT2011,\n",
    "  author    = {Maas, Andrew L.  and  Daly, Raymond E.  and  Pham, Peter T.  and  Huang, Dan  and  Ng, Andrew Y.  and  Potts, Christopher},\n",
    "  title     = {Learning Word Vectors for Sentiment Analysis},\n",
    "  booktitle = {Proceedings of the 49th Annual Meeting of the Association for Computational Linguistics: Human Language Technologies},\n",
    "  month     = {June},\n",
    "  year      = {2011},\n",
    "  address   = {Portland, Oregon, USA},\n",
    "  publisher = {Association for Computational Linguistics},\n",
    "  pages     = {142--150},\n",
    "  url       = {http://www.aclweb.org/anthology/P11-1015}\n",
    "}"
   ]
  },
  {
   "cell_type": "markdown",
   "metadata": {},
   "source": [
    "## Training Set"
   ]
  },
  {
   "cell_type": "code",
   "execution_count": 1,
   "metadata": {},
   "outputs": [],
   "source": [
    "import os\n",
    "import pandas as pd"
   ]
  },
  {
   "cell_type": "code",
   "execution_count": 2,
   "metadata": {},
   "outputs": [],
   "source": [
    "# Read the pos and neg review from training set\n",
    "path_train = \"text_data/aclImdb/train/\"\n",
    "neg_file_list_train = os.listdir(path_train + \"neg/\")\n",
    "pos_file_list_train = os.listdir(path_train + \"pos/\")"
   ]
  },
  {
   "cell_type": "code",
   "execution_count": 3,
   "metadata": {},
   "outputs": [
    {
     "name": "stdout",
     "output_type": "stream",
     "text": [
      "Number of negative review in the list from training set:  12500\n",
      "Number of positive review in the list from training set:  12500\n"
     ]
    }
   ],
   "source": [
    "neg_document_list_train = []\n",
    "for neg_file in neg_file_list_train:\n",
    "    with open(path_train + \"neg/\" + neg_file, 'r', encoding=\"utf8\", errors='ignore') as f:\n",
    "        s = f.readlines()[0]\n",
    "        neg_document_list_train.append(s)\n",
    "\n",
    "print(\"Number of negative review in the list from training set: \", len(neg_file_list_train))\n",
    "\n",
    "pos_document_list_train = []\n",
    "for pos_file in pos_file_list_train:\n",
    "    with open(path_train + \"pos/\" + pos_file, 'r', encoding=\"utf8\", errors='ignore') as f:\n",
    "        s = f.readlines()[0]\n",
    "        pos_document_list_train.append(s)\n",
    "print(\"Number of positive review in the list from training set: \", len(pos_file_list_train))"
   ]
  },
  {
   "cell_type": "code",
   "execution_count": 4,
   "metadata": {},
   "outputs": [],
   "source": [
    "# Write pos and neg review to pandas dataframe  \n",
    "df_pos_train = pd.DataFrame({'review':pos_document_list_train, 'sentiment':['pos']*len(pos_document_list_train)})\n",
    "df_neg_train = pd.DataFrame({'review':neg_document_list_train, 'sentiment ':['neg']*len(neg_document_list_train)})"
   ]
  },
  {
   "cell_type": "code",
   "execution_count": 5,
   "metadata": {},
   "outputs": [],
   "source": [
    "# Save to csv\n",
    "df_pos_train.to_csv(\"data/train_pos.csv\", index=None)\n",
    "df_neg_train.to_csv(\"data/train_neg.csv\", index=None)"
   ]
  },
  {
   "cell_type": "markdown",
   "metadata": {},
   "source": [
    "## Test Set"
   ]
  },
  {
   "cell_type": "code",
   "execution_count": 6,
   "metadata": {},
   "outputs": [],
   "source": [
    "# Read the pos and neg review from test set\n",
    "path_test = \"text_data/aclImdb/test/\"\n",
    "neg_file_list_test = os.listdir(path_test + \"neg/\")\n",
    "pos_file_list_test = os.listdir(path_test + \"pos/\")"
   ]
  },
  {
   "cell_type": "code",
   "execution_count": 7,
   "metadata": {},
   "outputs": [
    {
     "name": "stdout",
     "output_type": "stream",
     "text": [
      "Number of negative review in the list from test set:  12500\n",
      "Number of positive review in the list from test set:  12500\n"
     ]
    }
   ],
   "source": [
    "neg_document_list_test = []\n",
    "for neg_file in neg_file_list_test:\n",
    "    with open(path_test + \"neg/\" + neg_file, 'r', encoding=\"utf8\", errors='ignore') as f:\n",
    "        s = f.readlines()[0]\n",
    "        neg_document_list_test.append(s)\n",
    "\n",
    "print(\"Number of negative review in the list from test set: \", len(neg_file_list_test))\n",
    "\n",
    "pos_document_list_test = []\n",
    "for pos_file in pos_file_list_test:\n",
    "    with open(path_test + \"pos/\" + pos_file, 'r', encoding=\"utf8\", errors='ignore') as f:\n",
    "        s = f.readlines()[0]\n",
    "        pos_document_list_test.append(s)\n",
    "print(\"Number of positive review in the list from test set: \", len(pos_file_list_test))"
   ]
  },
  {
   "cell_type": "code",
   "execution_count": 8,
   "metadata": {},
   "outputs": [],
   "source": [
    "# Write pos and neg review to pandas dataframe  \n",
    "df_pos_test = pd.DataFrame({'review':pos_document_list_test, 'sentiment':['pos']*len(pos_document_list_test)})\n",
    "df_neg_test = pd.DataFrame({'review':neg_document_list_test, 'sentiment ':['neg']*len(neg_document_list_test)})"
   ]
  },
  {
   "cell_type": "code",
   "execution_count": 9,
   "metadata": {},
   "outputs": [],
   "source": [
    "# Save to csv\n",
    "df_pos_test.to_csv(\"data/test_pos.csv\", index=None)\n",
    "df_neg_test.to_csv(\"data/test_neg.csv\", index=None)"
   ]
  },
  {
   "cell_type": "code",
   "execution_count": null,
   "metadata": {},
   "outputs": [],
   "source": []
  }
 ],
 "metadata": {
  "kernelspec": {
   "display_name": "Python 3",
   "language": "python",
   "name": "python3"
  },
  "language_info": {
   "codemirror_mode": {
    "name": "ipython",
    "version": 3
   },
   "file_extension": ".py",
   "mimetype": "text/x-python",
   "name": "python",
   "nbconvert_exporter": "python",
   "pygments_lexer": "ipython3",
   "version": "3.7.4"
  }
 },
 "nbformat": 4,
 "nbformat_minor": 4
}
