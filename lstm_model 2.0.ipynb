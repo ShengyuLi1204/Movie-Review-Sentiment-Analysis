{
 "cells": [
  {
   "cell_type": "markdown",
   "metadata": {},
   "source": [
    "# Train LSTM model using Keras"
   ]
  },
  {
   "cell_type": "code",
   "execution_count": 1,
   "metadata": {},
   "outputs": [
    {
     "name": "stderr",
     "output_type": "stream",
     "text": [
      "[nltk_data] Downloading package punkt to\n",
      "[nltk_data]     /Users/koalachelsea/nltk_data...\n",
      "[nltk_data]   Package punkt is already up-to-date!\n",
      "Using TensorFlow backend.\n"
     ]
    }
   ],
   "source": [
    "import pandas as pd \n",
    "import numpy as np \n",
    "import re\n",
    "\n",
    "import nltk\n",
    "from nltk.tokenize import word_tokenize\n",
    "from nltk.corpus import stopwords\n",
    "from nltk.stem.snowball import SnowballStemmer\n",
    "from nltk.tokenize.treebank import TreebankWordDetokenizer\n",
    "nltk.download('punkt')\n",
    "stop_words = set(stopwords.words('english')) \n",
    "\n",
    "from keras.preprocessing.text import Tokenizer\n",
    "from keras.preprocessing.sequence import pad_sequences\n",
    "\n",
    "from keras.models import Sequential\n",
    "from keras.layers import Dense, Embedding, LSTM, Flatten, Dropout\n",
    "from keras.layers.convolutional import Conv1D, MaxPooling1D\n",
    "from keras.losses import categorical_crossentropy\n",
    "from keras.optimizers import Adam\n",
    "\n",
    "import matplotlib.pyplot as plt\n",
    "\n",
    "from gensim.models import KeyedVectors"
   ]
  },
  {
   "cell_type": "code",
   "execution_count": 2,
   "metadata": {},
   "outputs": [],
   "source": [
    "# parameter\n",
    "max_features = 5000 # the number of words to encode\n",
    "maxlen = 100 # maximum size of each list"
   ]
  },
  {
   "cell_type": "markdown",
   "metadata": {},
   "source": [
    "# Data Processing\n",
    "## Loadfile\n",
    "- Load csv file generated from data_clean.ipynb\n",
    "- Combine positive and negative reviews together and assign labels\n",
    "- Convert sentiment to numeric: index 1 is positive and 0 is negative"
   ]
  },
  {
   "cell_type": "code",
   "execution_count": 3,
   "metadata": {},
   "outputs": [
    {
     "data": {
      "text/html": [
       "<div>\n",
       "<style scoped>\n",
       "    .dataframe tbody tr th:only-of-type {\n",
       "        vertical-align: middle;\n",
       "    }\n",
       "\n",
       "    .dataframe tbody tr th {\n",
       "        vertical-align: top;\n",
       "    }\n",
       "\n",
       "    .dataframe thead th {\n",
       "        text-align: right;\n",
       "    }\n",
       "</style>\n",
       "<table border=\"1\" class=\"dataframe\">\n",
       "  <thead>\n",
       "    <tr style=\"text-align: right;\">\n",
       "      <th></th>\n",
       "      <th>review</th>\n",
       "      <th>sentiment</th>\n",
       "    </tr>\n",
       "  </thead>\n",
       "  <tbody>\n",
       "    <tr>\n",
       "      <th>0</th>\n",
       "      <td>Working with one of the best Shakespeare sourc...</td>\n",
       "      <td>neg</td>\n",
       "    </tr>\n",
       "    <tr>\n",
       "      <th>1</th>\n",
       "      <td>Well...tremors I, the original started off in ...</td>\n",
       "      <td>neg</td>\n",
       "    </tr>\n",
       "    <tr>\n",
       "      <th>2</th>\n",
       "      <td>Ouch! This one was a bit painful to sit throug...</td>\n",
       "      <td>neg</td>\n",
       "    </tr>\n",
       "    <tr>\n",
       "      <th>3</th>\n",
       "      <td>I've seen some crappy movies in my life, but t...</td>\n",
       "      <td>neg</td>\n",
       "    </tr>\n",
       "    <tr>\n",
       "      <th>4</th>\n",
       "      <td>\"Carriers\" follows the exploits of two guys an...</td>\n",
       "      <td>neg</td>\n",
       "    </tr>\n",
       "    <tr>\n",
       "      <th>...</th>\n",
       "      <td>...</td>\n",
       "      <td>...</td>\n",
       "    </tr>\n",
       "    <tr>\n",
       "      <th>24995</th>\n",
       "      <td>About a year ago I finally gave up on American...</td>\n",
       "      <td>pos</td>\n",
       "    </tr>\n",
       "    <tr>\n",
       "      <th>24996</th>\n",
       "      <td>When I saw the elaborate DVD box for this and ...</td>\n",
       "      <td>pos</td>\n",
       "    </tr>\n",
       "    <tr>\n",
       "      <th>24997</th>\n",
       "      <td>Last November, I had a chance to see this film...</td>\n",
       "      <td>pos</td>\n",
       "    </tr>\n",
       "    <tr>\n",
       "      <th>24998</th>\n",
       "      <td>Great movie -I loved it. Great editing and use...</td>\n",
       "      <td>pos</td>\n",
       "    </tr>\n",
       "    <tr>\n",
       "      <th>24999</th>\n",
       "      <td>Enchanted April is a tone poem, an impressioni...</td>\n",
       "      <td>pos</td>\n",
       "    </tr>\n",
       "  </tbody>\n",
       "</table>\n",
       "<p>25000 rows × 2 columns</p>\n",
       "</div>"
      ],
      "text/plain": [
       "                                                  review sentiment\n",
       "0      Working with one of the best Shakespeare sourc...       neg\n",
       "1      Well...tremors I, the original started off in ...       neg\n",
       "2      Ouch! This one was a bit painful to sit throug...       neg\n",
       "3      I've seen some crappy movies in my life, but t...       neg\n",
       "4      \"Carriers\" follows the exploits of two guys an...       neg\n",
       "...                                                  ...       ...\n",
       "24995  About a year ago I finally gave up on American...       pos\n",
       "24996  When I saw the elaborate DVD box for this and ...       pos\n",
       "24997  Last November, I had a chance to see this film...       pos\n",
       "24998  Great movie -I loved it. Great editing and use...       pos\n",
       "24999  Enchanted April is a tone poem, an impressioni...       pos\n",
       "\n",
       "[25000 rows x 2 columns]"
      ]
     },
     "execution_count": 3,
     "metadata": {},
     "output_type": "execute_result"
    }
   ],
   "source": [
    "train_neg = pd.read_csv('data/train_neg.csv', index_col=None, encoding='utf-8')\n",
    "train_pos = pd.read_csv('data/train_pos.csv', index_col=None, encoding='utf-8')\n",
    "train = np.concatenate([train_neg, train_pos], axis=0)\n",
    "train = pd.DataFrame(data=train, columns=[\"review\", \"sentiment\"])\n",
    "train"
   ]
  },
  {
   "cell_type": "code",
   "execution_count": 4,
   "metadata": {},
   "outputs": [
    {
     "data": {
      "text/html": [
       "<div>\n",
       "<style scoped>\n",
       "    .dataframe tbody tr th:only-of-type {\n",
       "        vertical-align: middle;\n",
       "    }\n",
       "\n",
       "    .dataframe tbody tr th {\n",
       "        vertical-align: top;\n",
       "    }\n",
       "\n",
       "    .dataframe thead th {\n",
       "        text-align: right;\n",
       "    }\n",
       "</style>\n",
       "<table border=\"1\" class=\"dataframe\">\n",
       "  <thead>\n",
       "    <tr style=\"text-align: right;\">\n",
       "      <th></th>\n",
       "      <th>review</th>\n",
       "      <th>sentiment</th>\n",
       "    </tr>\n",
       "  </thead>\n",
       "  <tbody>\n",
       "    <tr>\n",
       "      <th>0</th>\n",
       "      <td>Alan Rickman &amp; Emma Thompson give good perform...</td>\n",
       "      <td>neg</td>\n",
       "    </tr>\n",
       "    <tr>\n",
       "      <th>1</th>\n",
       "      <td>I have seen this movie and I did not care for ...</td>\n",
       "      <td>neg</td>\n",
       "    </tr>\n",
       "    <tr>\n",
       "      <th>2</th>\n",
       "      <td>In Los Angeles, the alcoholic and lazy Hank Ch...</td>\n",
       "      <td>neg</td>\n",
       "    </tr>\n",
       "    <tr>\n",
       "      <th>3</th>\n",
       "      <td>This film is bundled along with \"Gli fumavano ...</td>\n",
       "      <td>neg</td>\n",
       "    </tr>\n",
       "    <tr>\n",
       "      <th>4</th>\n",
       "      <td>I only comment on really very good films and o...</td>\n",
       "      <td>neg</td>\n",
       "    </tr>\n",
       "    <tr>\n",
       "      <th>...</th>\n",
       "      <td>...</td>\n",
       "      <td>...</td>\n",
       "    </tr>\n",
       "    <tr>\n",
       "      <th>24995</th>\n",
       "      <td>This movie is certainly well-constructed, begi...</td>\n",
       "      <td>pos</td>\n",
       "    </tr>\n",
       "    <tr>\n",
       "      <th>24996</th>\n",
       "      <td>Nice to see a comedy for grown ups. Masterfull...</td>\n",
       "      <td>pos</td>\n",
       "    </tr>\n",
       "    <tr>\n",
       "      <th>24997</th>\n",
       "      <td>Jean Renoir's homage to the Paris of the late ...</td>\n",
       "      <td>pos</td>\n",
       "    </tr>\n",
       "    <tr>\n",
       "      <th>24998</th>\n",
       "      <td>What are the movies? I mean.. what are movies ...</td>\n",
       "      <td>pos</td>\n",
       "    </tr>\n",
       "    <tr>\n",
       "      <th>24999</th>\n",
       "      <td>I saw this movie on TV and loved it! I am a re...</td>\n",
       "      <td>pos</td>\n",
       "    </tr>\n",
       "  </tbody>\n",
       "</table>\n",
       "<p>25000 rows × 2 columns</p>\n",
       "</div>"
      ],
      "text/plain": [
       "                                                  review sentiment\n",
       "0      Alan Rickman & Emma Thompson give good perform...       neg\n",
       "1      I have seen this movie and I did not care for ...       neg\n",
       "2      In Los Angeles, the alcoholic and lazy Hank Ch...       neg\n",
       "3      This film is bundled along with \"Gli fumavano ...       neg\n",
       "4      I only comment on really very good films and o...       neg\n",
       "...                                                  ...       ...\n",
       "24995  This movie is certainly well-constructed, begi...       pos\n",
       "24996  Nice to see a comedy for grown ups. Masterfull...       pos\n",
       "24997  Jean Renoir's homage to the Paris of the late ...       pos\n",
       "24998  What are the movies? I mean.. what are movies ...       pos\n",
       "24999  I saw this movie on TV and loved it! I am a re...       pos\n",
       "\n",
       "[25000 rows x 2 columns]"
      ]
     },
     "execution_count": 4,
     "metadata": {},
     "output_type": "execute_result"
    }
   ],
   "source": [
    "test_neg = pd.read_csv('data/test_neg.csv', index_col=None, encoding='utf-8')\n",
    "test_pos = pd.read_csv('data/test_pos.csv', index_col=None, encoding='utf-8')\n",
    "test = np.concatenate([test_neg, test_pos], axis=0)\n",
    "test = pd.DataFrame(data=test, columns=[\"review\", \"sentiment\"])\n",
    "test"
   ]
  },
  {
   "cell_type": "markdown",
   "metadata": {},
   "source": [
    "## Clean the text\n",
    "- Remove special format\n",
    "- Word tokenize\n",
    "- Ignore stop words\n",
    "- Stemming"
   ]
  },
  {
   "cell_type": "code",
   "execution_count": 5,
   "metadata": {},
   "outputs": [],
   "source": [
    "def clean_text(text):\n",
    "    # Remove url\n",
    "    text = re.sub(r'((www\\.[^\\s]+)|(https?://[^\\s]+))', ' ', str(text))\n",
    "    \n",
    "    # Remove hashtags\n",
    "    # only removing the hash # sign from the word, we believe hashtags contains useful information\n",
    "    text = re.sub(r'#', '', str(text))\n",
    "    \n",
    "    # replace consecutive non-ASCII characters with a space\n",
    "    text = re.sub(r'[^\\x00-\\x7F]+', ' ', str(text))\n",
    "    \n",
    "    # Clean the text\n",
    "    text = re.sub(r'<br />', ' ', str(text))\n",
    "    return text"
   ]
  },
  {
   "cell_type": "code",
   "execution_count": 6,
   "metadata": {},
   "outputs": [],
   "source": [
    "# clean the text\n",
    "train['clean text'] = train['review'].map(lambda x: clean_text(x))\n",
    "test['clean text'] = test['review'].map(lambda x: clean_text(x))"
   ]
  },
  {
   "cell_type": "code",
   "execution_count": 7,
   "metadata": {},
   "outputs": [],
   "source": [
    "# tokenize the review\n",
    "train['token'] = train['clean text'].apply(word_tokenize)\\\n",
    ".apply(lambda x: [item for item in x if item.isalpha()])\n",
    "test['token'] = test['clean text'].apply(word_tokenize)\\\n",
    ".apply(lambda x: [item for item in x if item.isalpha()])\n",
    "\n",
    "# clean the token by stopword removal and stemming\n",
    "stemmer = SnowballStemmer(\"english\", ignore_stopwords=True)\n",
    "\n",
    "train['clean token'] = train['token'].apply(lambda x: [item for item in x if item not in stop_words])\\\n",
    ".apply(lambda x: [stemmer.stem(item) for item in x])\n",
    "test['clean token'] = test['token'].apply(lambda x: [item for item in x if item not in stop_words])\\\n",
    ".apply(lambda x: [stemmer.stem(item) for item in x])"
   ]
  },
  {
   "cell_type": "code",
   "execution_count": 8,
   "metadata": {},
   "outputs": [],
   "source": [
    "# return cleaned token as text back to dataframe\n",
    "train['detoken'] = train['clean token'].apply(lambda x: TreebankWordDetokenizer().detokenize(x))\n",
    "test['detoken'] = test['clean token'].apply(lambda x: TreebankWordDetokenizer().detokenize(x))"
   ]
  },
  {
   "cell_type": "code",
   "execution_count": 9,
   "metadata": {},
   "outputs": [
    {
     "data": {
      "text/html": [
       "<div>\n",
       "<style scoped>\n",
       "    .dataframe tbody tr th:only-of-type {\n",
       "        vertical-align: middle;\n",
       "    }\n",
       "\n",
       "    .dataframe tbody tr th {\n",
       "        vertical-align: top;\n",
       "    }\n",
       "\n",
       "    .dataframe thead th {\n",
       "        text-align: right;\n",
       "    }\n",
       "</style>\n",
       "<table border=\"1\" class=\"dataframe\">\n",
       "  <thead>\n",
       "    <tr style=\"text-align: right;\">\n",
       "      <th></th>\n",
       "      <th>review</th>\n",
       "      <th>sentiment</th>\n",
       "      <th>clean text</th>\n",
       "      <th>token</th>\n",
       "      <th>clean token</th>\n",
       "      <th>detoken</th>\n",
       "    </tr>\n",
       "  </thead>\n",
       "  <tbody>\n",
       "    <tr>\n",
       "      <th>0</th>\n",
       "      <td>Working with one of the best Shakespeare sourc...</td>\n",
       "      <td>neg</td>\n",
       "      <td>Working with one of the best Shakespeare sourc...</td>\n",
       "      <td>[Working, with, one, of, the, best, Shakespear...</td>\n",
       "      <td>[work, one, best, shakespear, sourc, film, man...</td>\n",
       "      <td>work one best shakespear sourc film manag cred...</td>\n",
       "    </tr>\n",
       "    <tr>\n",
       "      <th>1</th>\n",
       "      <td>Well...tremors I, the original started off in ...</td>\n",
       "      <td>neg</td>\n",
       "      <td>Well...tremors I, the original started off in ...</td>\n",
       "      <td>[Well, tremors, I, the, original, started, off...</td>\n",
       "      <td>[well, tremor, i, origin, start, found, movi, ...</td>\n",
       "      <td>well tremor i origin start found movi quit enj...</td>\n",
       "    </tr>\n",
       "    <tr>\n",
       "      <th>2</th>\n",
       "      <td>Ouch! This one was a bit painful to sit throug...</td>\n",
       "      <td>neg</td>\n",
       "      <td>Ouch! This one was a bit painful to sit throug...</td>\n",
       "      <td>[Ouch, This, one, was, a, bit, painful, to, si...</td>\n",
       "      <td>[ouch, this, one, bit, pain, sit, it, cute, am...</td>\n",
       "      <td>ouch this one bit pain sit it cute amus premis...</td>\n",
       "    </tr>\n",
       "    <tr>\n",
       "      <th>3</th>\n",
       "      <td>I've seen some crappy movies in my life, but t...</td>\n",
       "      <td>neg</td>\n",
       "      <td>I've seen some crappy movies in my life, but t...</td>\n",
       "      <td>[I, seen, some, crappy, movies, in, my, life, ...</td>\n",
       "      <td>[i, seen, crappi, movi, life, one, must, among...</td>\n",
       "      <td>i seen crappi movi life one must among worst d...</td>\n",
       "    </tr>\n",
       "    <tr>\n",
       "      <th>4</th>\n",
       "      <td>\"Carriers\" follows the exploits of two guys an...</td>\n",
       "      <td>neg</td>\n",
       "      <td>\"Carriers\" follows the exploits of two guys an...</td>\n",
       "      <td>[Carriers, follows, the, exploits, of, two, gu...</td>\n",
       "      <td>[carrier, follow, exploit, two, guy, two, gal,...</td>\n",
       "      <td>carrier follow exploit two guy two gal stolen ...</td>\n",
       "    </tr>\n",
       "    <tr>\n",
       "      <th>...</th>\n",
       "      <td>...</td>\n",
       "      <td>...</td>\n",
       "      <td>...</td>\n",
       "      <td>...</td>\n",
       "      <td>...</td>\n",
       "      <td>...</td>\n",
       "    </tr>\n",
       "    <tr>\n",
       "      <th>24995</th>\n",
       "      <td>About a year ago I finally gave up on American...</td>\n",
       "      <td>pos</td>\n",
       "      <td>About a year ago I finally gave up on American...</td>\n",
       "      <td>[About, a, year, ago, I, finally, gave, up, on...</td>\n",
       "      <td>[about, year, ago, i, final, gave, american, t...</td>\n",
       "      <td>about year ago i final gave american televis i...</td>\n",
       "    </tr>\n",
       "    <tr>\n",
       "      <th>24996</th>\n",
       "      <td>When I saw the elaborate DVD box for this and ...</td>\n",
       "      <td>pos</td>\n",
       "      <td>When I saw the elaborate DVD box for this and ...</td>\n",
       "      <td>[When, I, saw, the, elaborate, DVD, box, for, ...</td>\n",
       "      <td>[when, i, saw, elabor, dvd, box, dread, red, q...</td>\n",
       "      <td>when i saw elabor dvd box dread red queen figu...</td>\n",
       "    </tr>\n",
       "    <tr>\n",
       "      <th>24997</th>\n",
       "      <td>Last November, I had a chance to see this film...</td>\n",
       "      <td>pos</td>\n",
       "      <td>Last November, I had a chance to see this film...</td>\n",
       "      <td>[Last, November, I, had, a, chance, to, see, t...</td>\n",
       "      <td>[last, novemb, i, chanc, see, film, reno, film...</td>\n",
       "      <td>last novemb i chanc see film reno film festiv ...</td>\n",
       "    </tr>\n",
       "    <tr>\n",
       "      <th>24998</th>\n",
       "      <td>Great movie -I loved it. Great editing and use...</td>\n",
       "      <td>pos</td>\n",
       "      <td>Great movie -I loved it. Great editing and use...</td>\n",
       "      <td>[Great, movie, loved, it, Great, editing, and,...</td>\n",
       "      <td>[great, movi, love, great, edit, use, soundtra...</td>\n",
       "      <td>great movi love great edit use soundtrack capt...</td>\n",
       "    </tr>\n",
       "    <tr>\n",
       "      <th>24999</th>\n",
       "      <td>Enchanted April is a tone poem, an impressioni...</td>\n",
       "      <td>pos</td>\n",
       "      <td>Enchanted April is a tone poem, an impressioni...</td>\n",
       "      <td>[Enchanted, April, is, a, tone, poem, an, impr...</td>\n",
       "      <td>[enchant, april, tone, poem, impressionist, pa...</td>\n",
       "      <td>enchant april tone poem impressionist paint ma...</td>\n",
       "    </tr>\n",
       "  </tbody>\n",
       "</table>\n",
       "<p>25000 rows × 6 columns</p>\n",
       "</div>"
      ],
      "text/plain": [
       "                                                  review sentiment  \\\n",
       "0      Working with one of the best Shakespeare sourc...       neg   \n",
       "1      Well...tremors I, the original started off in ...       neg   \n",
       "2      Ouch! This one was a bit painful to sit throug...       neg   \n",
       "3      I've seen some crappy movies in my life, but t...       neg   \n",
       "4      \"Carriers\" follows the exploits of two guys an...       neg   \n",
       "...                                                  ...       ...   \n",
       "24995  About a year ago I finally gave up on American...       pos   \n",
       "24996  When I saw the elaborate DVD box for this and ...       pos   \n",
       "24997  Last November, I had a chance to see this film...       pos   \n",
       "24998  Great movie -I loved it. Great editing and use...       pos   \n",
       "24999  Enchanted April is a tone poem, an impressioni...       pos   \n",
       "\n",
       "                                              clean text  \\\n",
       "0      Working with one of the best Shakespeare sourc...   \n",
       "1      Well...tremors I, the original started off in ...   \n",
       "2      Ouch! This one was a bit painful to sit throug...   \n",
       "3      I've seen some crappy movies in my life, but t...   \n",
       "4      \"Carriers\" follows the exploits of two guys an...   \n",
       "...                                                  ...   \n",
       "24995  About a year ago I finally gave up on American...   \n",
       "24996  When I saw the elaborate DVD box for this and ...   \n",
       "24997  Last November, I had a chance to see this film...   \n",
       "24998  Great movie -I loved it. Great editing and use...   \n",
       "24999  Enchanted April is a tone poem, an impressioni...   \n",
       "\n",
       "                                                   token  \\\n",
       "0      [Working, with, one, of, the, best, Shakespear...   \n",
       "1      [Well, tremors, I, the, original, started, off...   \n",
       "2      [Ouch, This, one, was, a, bit, painful, to, si...   \n",
       "3      [I, seen, some, crappy, movies, in, my, life, ...   \n",
       "4      [Carriers, follows, the, exploits, of, two, gu...   \n",
       "...                                                  ...   \n",
       "24995  [About, a, year, ago, I, finally, gave, up, on...   \n",
       "24996  [When, I, saw, the, elaborate, DVD, box, for, ...   \n",
       "24997  [Last, November, I, had, a, chance, to, see, t...   \n",
       "24998  [Great, movie, loved, it, Great, editing, and,...   \n",
       "24999  [Enchanted, April, is, a, tone, poem, an, impr...   \n",
       "\n",
       "                                             clean token  \\\n",
       "0      [work, one, best, shakespear, sourc, film, man...   \n",
       "1      [well, tremor, i, origin, start, found, movi, ...   \n",
       "2      [ouch, this, one, bit, pain, sit, it, cute, am...   \n",
       "3      [i, seen, crappi, movi, life, one, must, among...   \n",
       "4      [carrier, follow, exploit, two, guy, two, gal,...   \n",
       "...                                                  ...   \n",
       "24995  [about, year, ago, i, final, gave, american, t...   \n",
       "24996  [when, i, saw, elabor, dvd, box, dread, red, q...   \n",
       "24997  [last, novemb, i, chanc, see, film, reno, film...   \n",
       "24998  [great, movi, love, great, edit, use, soundtra...   \n",
       "24999  [enchant, april, tone, poem, impressionist, pa...   \n",
       "\n",
       "                                                 detoken  \n",
       "0      work one best shakespear sourc film manag cred...  \n",
       "1      well tremor i origin start found movi quit enj...  \n",
       "2      ouch this one bit pain sit it cute amus premis...  \n",
       "3      i seen crappi movi life one must among worst d...  \n",
       "4      carrier follow exploit two guy two gal stolen ...  \n",
       "...                                                  ...  \n",
       "24995  about year ago i final gave american televis i...  \n",
       "24996  when i saw elabor dvd box dread red queen figu...  \n",
       "24997  last novemb i chanc see film reno film festiv ...  \n",
       "24998  great movi love great edit use soundtrack capt...  \n",
       "24999  enchant april tone poem impressionist paint ma...  \n",
       "\n",
       "[25000 rows x 6 columns]"
      ]
     },
     "execution_count": 9,
     "metadata": {},
     "output_type": "execute_result"
    }
   ],
   "source": [
    "train"
   ]
  },
  {
   "cell_type": "code",
   "execution_count": 10,
   "metadata": {},
   "outputs": [],
   "source": [
    "# convert sentiment to numeric\n",
    "train['sentiment'] = train['sentiment'].map({'pos': 1, 'neg': 0})\n",
    "test['sentiment'] = test['sentiment'].map({'pos': 1, 'neg': 0})\n",
    "y_train = train['sentiment']\n",
    "y_test = test['sentiment']"
   ]
  },
  {
   "cell_type": "markdown",
   "metadata": {},
   "source": [
    "## Preparing text for NLP\n",
    "- Extract the actual texts from training set\n",
    "- Tokenizer: create a word-to-index dictionary: each word in the corpus is used as a key, while a corresponding unique index is used as the value for the key.\n",
    "- fit_on_texts: create associations of words and numbers.\n",
    "- texts_to_sequences: transforms each text in texts to a sequence of integers."
   ]
  },
  {
   "cell_type": "code",
   "execution_count": 11,
   "metadata": {},
   "outputs": [],
   "source": [
    "# get the actual texts from training set\n",
    "X_train = train.detoken.values.astype(str)\n",
    "X_test = test.detoken.values.astype(str)\n",
    "# initialize the tokenizer with a 5000 word limit\n",
    "tokenizer = Tokenizer(num_words=max_features)\n",
    "tokenizer.fit_on_texts(X_train)\n",
    "tokenizer.fit_on_texts(X_test)\n",
    "# list of texts to turn to sequences.\n",
    "X_train = tokenizer.texts_to_sequences(X_train)\n",
    "X_test = tokenizer.texts_to_sequences(X_test)"
   ]
  },
  {
   "cell_type": "markdown",
   "metadata": {},
   "source": [
    "- find the vocabulary size\n",
    "- pad_sequences: make all sequences in a given standard length\n",
    "    - for list with size greater than 100, it will be truncated to 100. \n",
    "    - for list with size less than 100, it will add 0 at the end of the list until it reaches the max length 100."
   ]
  },
  {
   "cell_type": "code",
   "execution_count": 12,
   "metadata": {},
   "outputs": [
    {
     "name": "stdout",
     "output_type": "stream",
     "text": [
      "66605\n"
     ]
    }
   ],
   "source": [
    "# adding 1 because of reserved 0 index\n",
    "vocab_size = len(tokenizer.word_index) + 1\n",
    "print(vocab_size)\n",
    "# padding\n",
    "X_train_padded_sequence = pad_sequences(X_train, padding='post', maxlen=maxlen)\n",
    "X_test_padded_sequence = pad_sequences(X_test, padding='post', maxlen=maxlen)"
   ]
  },
  {
   "cell_type": "markdown",
   "metadata": {},
   "source": [
    "# Embedding: word2vec\n",
    "Word-embeddings are numerical vector representations for words. They allow us to reduce the dimensionality of the word-space from the length of the corpus vocabulary to a much shorter length."
   ]
  },
  {
   "cell_type": "code",
   "execution_count": 13,
   "metadata": {},
   "outputs": [
    {
     "name": "stdout",
     "output_type": "stream",
     "text": [
      "300\n"
     ]
    }
   ],
   "source": [
    "# Load vectors directly from the file\n",
    "# https://code.google.com/archive/p/word2vec/\n",
    "word2vec = KeyedVectors.load_word2vec_format('model/GoogleNews-vectors-negative300.bin', binary=True)\n",
    "# Check dimension of word vectors\n",
    "print(word2vec.vector_size)"
   ]
  },
  {
   "cell_type": "code",
   "execution_count": 14,
   "metadata": {},
   "outputs": [
    {
     "name": "stdout",
     "output_type": "stream",
     "text": [
      "(66605, 300)\n"
     ]
    }
   ],
   "source": [
    "embedding_matrix_word2vec = np.zeros((vocab_size, 300))\n",
    "print(embedding_matrix_word2vec.shape)\n",
    "for word, i in tokenizer.word_index.items():\n",
    "    if word in word2vec:\n",
    "        embedding_matrix_word2vec[i] = word2vec[word]"
   ]
  },
  {
   "cell_type": "markdown",
   "metadata": {},
   "source": [
    "# Model 1\n",
    "- LSTM for Sequence Classification With Dropout (to resolve overfitting)\n",
    "- Embedding Layer"
   ]
  },
  {
   "cell_type": "code",
   "execution_count": 15,
   "metadata": {},
   "outputs": [
    {
     "name": "stdout",
     "output_type": "stream",
     "text": [
      "Model: \"sequential_1\"\n",
      "_________________________________________________________________\n",
      "Layer (type)                 Output Shape              Param #   \n",
      "=================================================================\n",
      "embedding_1 (Embedding)      (None, 100, 300)          19981500  \n",
      "_________________________________________________________________\n",
      "lstm_1 (LSTM)                (None, 100)               160400    \n",
      "_________________________________________________________________\n",
      "dense_1 (Dense)              (None, 1)                 101       \n",
      "=================================================================\n",
      "Total params: 20,142,001\n",
      "Trainable params: 20,142,001\n",
      "Non-trainable params: 0\n",
      "_________________________________________________________________\n",
      "None\n"
     ]
    }
   ],
   "source": [
    "model = Sequential()\n",
    "model.add(Embedding(vocab_size, 300, input_length=maxlen, weights=[embedding_matrix_word2vec]))\n",
    "model.add(LSTM(100, dropout=0.2, recurrent_dropout=0.2))\n",
    "model.add(Dense(1, activation='sigmoid'))\n",
    "model.compile(loss='binary_crossentropy', optimizer='adam', metrics=['accuracy'])\n",
    "print(model.summary())"
   ]
  },
  {
   "cell_type": "code",
   "execution_count": 16,
   "metadata": {},
   "outputs": [
    {
     "name": "stderr",
     "output_type": "stream",
     "text": [
      "/usr/local/lib/python3.7/site-packages/tensorflow_core/python/framework/indexed_slices.py:433: UserWarning: Converting sparse IndexedSlices to a dense Tensor of unknown shape. This may consume a large amount of memory.\n",
      "  \"Converting sparse IndexedSlices to a dense Tensor of unknown shape. \"\n"
     ]
    },
    {
     "name": "stdout",
     "output_type": "stream",
     "text": [
      "Train on 25000 samples, validate on 25000 samples\n",
      "Epoch 1/5\n",
      "25000/25000 [==============================] - 46s 2ms/step - loss: 0.6383 - accuracy: 0.6354 - val_loss: 0.5043 - val_accuracy: 0.7888\n",
      "Epoch 2/5\n",
      "25000/25000 [==============================] - 44s 2ms/step - loss: 0.4727 - accuracy: 0.8043 - val_loss: 0.3902 - val_accuracy: 0.8325\n",
      "Epoch 3/5\n",
      "25000/25000 [==============================] - 45s 2ms/step - loss: 0.3868 - accuracy: 0.8469 - val_loss: 0.3553 - val_accuracy: 0.8568\n",
      "Epoch 4/5\n",
      "25000/25000 [==============================] - 42s 2ms/step - loss: 0.3533 - accuracy: 0.8626 - val_loss: 0.3448 - val_accuracy: 0.8570\n",
      "Epoch 5/5\n",
      "25000/25000 [==============================] - 41s 2ms/step - loss: 0.3288 - accuracy: 0.8761 - val_loss: 0.3457 - val_accuracy: 0.8553\n"
     ]
    }
   ],
   "source": [
    "history = model.fit(X_train_padded_sequence, y_train, validation_data=(X_test_padded_sequence, y_test), \n",
    "                    epochs=5, batch_size=1024, verbose=1)"
   ]
  },
  {
   "cell_type": "code",
   "execution_count": 17,
   "metadata": {},
   "outputs": [
    {
     "name": "stdout",
     "output_type": "stream",
     "text": [
      "25000/25000 [==============================] - 16s 630us/step\n",
      "Accuracy: 85.53%\n"
     ]
    }
   ],
   "source": [
    "# final evaluation of the model\n",
    "scores = model.evaluate(X_test_padded_sequence, y_test, verbose=1)\n",
    "print(\"Accuracy: %.2f%%\" % (scores[1]*100))"
   ]
  },
  {
   "cell_type": "code",
   "execution_count": 18,
   "metadata": {},
   "outputs": [
    {
     "data": {
      "image/png": "[encoded data removed]",
      "text/plain": [
       "<Figure size 432x288 with 1 Axes>"
      ]
     },
     "metadata": {
      "needs_background": "light"
     },
     "output_type": "display_data"
    },
    {
     "data": {
      "image/png": "[encoded data removed]",
      "text/plain": [
       "<Figure size 432x288 with 1 Axes>"
      ]
     },
     "metadata": {
      "needs_background": "light"
     },
     "output_type": "display_data"
    }
   ],
   "source": [
    "plt.plot(history.history['accuracy'])\n",
    "plt.plot(history.history['val_accuracy'])\n",
    "\n",
    "plt.title('model accuracy')\n",
    "plt.ylabel('accuracy')\n",
    "plt.xlabel('epoch')\n",
    "plt.legend(['train','test'], loc='upper left')\n",
    "plt.show()\n",
    "\n",
    "plt.plot(history.history['loss'])\n",
    "plt.plot(history.history['val_loss'])\n",
    "\n",
    "plt.title('model loss')\n",
    "plt.ylabel('loss')\n",
    "plt.xlabel('epoch')\n",
    "plt.legend(['train','test'], loc='upper left')\n",
    "plt.show()"
   ]
  },
  {
   "cell_type": "markdown",
   "metadata": {},
   "source": [
    "# Model 2\n",
    "- LSTM and Convolutional Neural Network(CNN) For Sequence Classification\n",
    "- Embedding Layer\n",
    "- Add a one-dimensional CNN and max pooling layers\n",
    "- Use a set of vector size features with a small filter length of 3 \n",
    "- Use a standard length of 2 pooling layer to halve the feature map size"
   ]
  },
  {
   "cell_type": "code",
   "execution_count": 19,
   "metadata": {},
   "outputs": [
    {
     "name": "stdout",
     "output_type": "stream",
     "text": [
      "Model: \"sequential_2\"\n",
      "_________________________________________________________________\n",
      "Layer (type)                 Output Shape              Param #   \n",
      "=================================================================\n",
      "embedding_2 (Embedding)      (None, 100, 300)          19981500  \n",
      "_________________________________________________________________\n",
      "conv1d_1 (Conv1D)            (None, 100, 300)          270300    \n",
      "_________________________________________________________________\n",
      "max_pooling1d_1 (MaxPooling1 (None, 50, 300)           0         \n",
      "_________________________________________________________________\n",
      "dropout_1 (Dropout)          (None, 50, 300)           0         \n",
      "_________________________________________________________________\n",
      "lstm_2 (LSTM)                (None, 100)               160400    \n",
      "_________________________________________________________________\n",
      "dropout_2 (Dropout)          (None, 100)               0         \n",
      "_________________________________________________________________\n",
      "dense_2 (Dense)              (None, 1)                 101       \n",
      "=================================================================\n",
      "Total params: 20,412,301\n",
      "Trainable params: 20,412,301\n",
      "Non-trainable params: 0\n",
      "_________________________________________________________________\n",
      "None\n"
     ]
    }
   ],
   "source": [
    "model_2 = Sequential()\n",
    "model_2.add(Embedding(vocab_size, word2vec.vector_size, input_length=maxlen, weights=[embedding_matrix_word2vec]))\n",
    "model_2.add(Conv1D(filters=word2vec.vector_size, kernel_size=3, padding='same', activation='relu'))\n",
    "model_2.add(MaxPooling1D(pool_size=2))\n",
    "model_2.add(Dropout(0.2))\n",
    "model_2.add(LSTM(100))\n",
    "model_2.add(Dropout(0.2))\n",
    "model_2.add(Dense(1, activation='sigmoid'))\n",
    "model_2.compile(loss='binary_crossentropy', optimizer='adam', metrics=['accuracy'])\n",
    "print(model_2.summary())"
   ]
  },
  {
   "cell_type": "code",
   "execution_count": 20,
   "metadata": {},
   "outputs": [
    {
     "name": "stderr",
     "output_type": "stream",
     "text": [
      "/usr/local/lib/python3.7/site-packages/tensorflow_core/python/framework/indexed_slices.py:433: UserWarning: Converting sparse IndexedSlices to a dense Tensor of unknown shape. This may consume a large amount of memory.\n",
      "  \"Converting sparse IndexedSlices to a dense Tensor of unknown shape. \"\n"
     ]
    },
    {
     "name": "stdout",
     "output_type": "stream",
     "text": [
      "Train on 25000 samples, validate on 25000 samples\n",
      "Epoch 1/5\n",
      "25000/25000 [==============================] - 58s 2ms/step - loss: 0.5349 - accuracy: 0.7173 - val_loss: 0.3697 - val_accuracy: 0.8438\n",
      "Epoch 2/5\n",
      "25000/25000 [==============================] - 55s 2ms/step - loss: 0.3058 - accuracy: 0.8758 - val_loss: 0.3300 - val_accuracy: 0.8604\n",
      "Epoch 3/5\n",
      "25000/25000 [==============================] - 57s 2ms/step - loss: 0.2354 - accuracy: 0.9104 - val_loss: 0.3109 - val_accuracy: 0.8690\n",
      "Epoch 4/5\n",
      "25000/25000 [==============================] - 56s 2ms/step - loss: 0.2058 - accuracy: 0.9230 - val_loss: 0.3923 - val_accuracy: 0.8414\n",
      "Epoch 5/5\n",
      "25000/25000 [==============================] - 62s 2ms/step - loss: 0.1755 - accuracy: 0.9362 - val_loss: 0.3389 - val_accuracy: 0.8588\n"
     ]
    }
   ],
   "source": [
    "history_2 = model_2.fit(X_train_padded_sequence, y_train, validation_data=(X_test_padded_sequence, y_test), \n",
    "                        epochs=5, batch_size=512, verbose=1)"
   ]
  },
  {
   "cell_type": "code",
   "execution_count": 21,
   "metadata": {},
   "outputs": [
    {
     "name": "stdout",
     "output_type": "stream",
     "text": [
      "25000/25000 [==============================] - 17s 665us/step\n",
      "Accuracy: 85.53%\n"
     ]
    }
   ],
   "source": [
    "# final evaluation of the model\n",
    "scores_2 = model_2.evaluate(X_test_padded_sequence, y_test, verbose=1)\n",
    "print(\"Accuracy: %.2f%%\" % (scores[1]*100))"
   ]
  },
  {
   "cell_type": "code",
   "execution_count": 22,
   "metadata": {},
   "outputs": [
    {
     "name": "stdout",
     "output_type": "stream",
     "text": [
      "Test Score: 0.3388561863088608\n",
      "Test Accuracy: 0.8587599992752075\n"
     ]
    }
   ],
   "source": [
    "print(\"Test Score:\", scores_2[0])\n",
    "print(\"Test Accuracy:\", scores_2[1])"
   ]
  },
  {
   "cell_type": "code",
   "execution_count": 23,
   "metadata": {},
   "outputs": [
    {
     "data": {
      "image/png": "[encoded data removed]",
      "text/plain": [
       "<Figure size 432x288 with 1 Axes>"
      ]
     },
     "metadata": {
      "needs_background": "light"
     },
     "output_type": "display_data"
    },
    {
     "data": {
      "image/png": "[encoded data removed]",
      "text/plain": [
       "<Figure size 432x288 with 1 Axes>"
      ]
     },
     "metadata": {
      "needs_background": "light"
     },
     "output_type": "display_data"
    }
   ],
   "source": [
    "plt.plot(history_2.history['accuracy'])\n",
    "plt.plot(history_2.history['val_accuracy'])\n",
    "\n",
    "plt.title('model accuracy')\n",
    "plt.ylabel('accuracy')\n",
    "plt.xlabel('epoch')\n",
    "plt.legend(['train','test'], loc='upper left')\n",
    "plt.show()\n",
    "\n",
    "plt.plot(history_2.history['loss'])\n",
    "plt.plot(history_2.history['val_loss'])\n",
    "\n",
    "plt.title('model loss')\n",
    "plt.ylabel('loss')\n",
    "plt.xlabel('epoch')\n",
    "plt.legend(['train','test'], loc='upper left')\n",
    "plt.show()"
   ]
  },
  {
   "cell_type": "markdown",
   "metadata": {},
   "source": [
    "# Save the Model 1"
   ]
  },
  {
   "cell_type": "code",
   "execution_count": 25,
   "metadata": {},
   "outputs": [],
   "source": [
    "import yaml\n",
    "yaml_string = model.to_yaml()\n",
    "with open('model/lstm.yml', 'w') as outfile:\n",
    "    outfile.write(yaml.dump(yaml_string, default_flow_style=True))\n",
    "model.save_weights('model/lstm.h5')"
   ]
  },
  {
   "cell_type": "code",
   "execution_count": null,
   "metadata": {},
   "outputs": [],
   "source": []
  }
 ],
 "metadata": {
  "kernelspec": {
   "display_name": "Python 3",
   "language": "python",
   "name": "python3"
  },
  "language_info": {
   "codemirror_mode": {
    "name": "ipython",
    "version": 3
   },
   "file_extension": ".py",
   "mimetype": "text/x-python",
   "name": "python",
   "nbconvert_exporter": "python",
   "pygments_lexer": "ipython3",
   "version": "3.7.4"
  }
 },
 "nbformat": 4,
 "nbformat_minor": 4
}
