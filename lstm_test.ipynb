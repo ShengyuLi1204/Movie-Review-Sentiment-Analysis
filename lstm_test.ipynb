{
 "cells": [
  {
   "cell_type": "code",
   "execution_count": 1,
   "metadata": {},
   "outputs": [
    {
     "name": "stderr",
     "output_type": "stream",
     "text": [
      "[nltk_data] Downloading package punkt to\n",
      "[nltk_data]     /Users/koalachelsea/nltk_data...\n",
      "[nltk_data]   Package punkt is already up-to-date!\n",
      "Using TensorFlow backend.\n"
     ]
    }
   ],
   "source": [
    "import pandas as pd \n",
    "import numpy as np \n",
    "import re\n",
    "\n",
    "import nltk\n",
    "from nltk.tokenize import word_tokenize\n",
    "from nltk.corpus import stopwords\n",
    "from nltk.stem.snowball import SnowballStemmer\n",
    "from nltk.tokenize.treebank import TreebankWordDetokenizer\n",
    "nltk.download('punkt')\n",
    "stop_words = set(stopwords.words('english')) \n",
    "\n",
    "from keras.preprocessing.text import Tokenizer\n",
    "from keras.preprocessing.sequence import pad_sequences\n",
    "\n",
    "from keras.models import Sequential\n",
    "from keras.layers import Dense, Embedding, LSTM, Flatten, Dropout\n",
    "from keras.layers.convolutional import Conv1D, MaxPooling1D\n",
    "from keras.losses import categorical_crossentropy\n",
    "from keras.optimizers import Adam\n",
    "\n",
    "import matplotlib.pyplot as plt\n",
    "\n",
    "from gensim.models import KeyedVectors\n",
    "\n",
    "import yaml\n",
    "from keras.models import model_from_yaml\n",
    "np.random.seed(666) "
   ]
  },
  {
   "cell_type": "markdown",
   "metadata": {},
   "source": [
    "# Test with Example"
   ]
  },
  {
   "cell_type": "code",
   "execution_count": 2,
   "metadata": {},
   "outputs": [],
   "source": [
    "unsup_text = \"Like TWO ARABIAN KNIGHTS, a couple of American soldiers attempt the daring rescue of a Middle Eastern princess from a loveless betrothal.<br /><br />Producer Howard Hughes became a Hollywood power with the very successful release of this, his third motion picture. Thought lost for decades, this wonderful silent comedy has recently been rediscovered & restored and given a splendid orchestral score by Robert Israel. Directed with verve by Lewis Milestone and greatly benefiting from William Cameron Menzies' art direction, the high jinks & high adventure of this antique buddy film are once again ready to delight the viewing audience.<br /><br />Clean-cut private William Boyd and plug-ugly sergeant Louis Wolheim battle Germans, Arabs and each other across Europe, the Mediterranean and into Palestine. They make a terrific comedy duo, constantly involved in one-upmanship and dangerous exploits whether in a POW camp, on a prisoner train, aboard a tramp steamer, or in a Moslem souk and emir's palace. Wolheim, with his hilariously expressive face, has a slight advantage in the scene stealing category, while Boyd has the upper hand in the romantics department.<br /><br />Mary Astor, as the endangered princess, is the willing recipient of Boyd's attentions. Her role doesn't give her a great deal to do except look lovely & alarmed, but these she carries off admirably.<br /><br />In the supporting cast, Michael Visaroff is the black hearted ship's captain who comes into conflict with Boyd & Wolheim; look fast for Boris Karloff as his purser. Dashing Ian Keith nicely plays the young Arab chieftain who will stop at nothing to make Astor his bride.<br /><br />At various points throughout the movie the viewer will notice the deterioration of the film stock, showing that TWO ARABIAN KNIGHTS was indeed rescued, like the princess, just in time.\""
   ]
  },
  {
   "cell_type": "code",
   "execution_count": 3,
   "metadata": {},
   "outputs": [],
   "source": [
    "def clean_text(text):\n",
    "    # Remove url\n",
    "    text = re.sub(r'((www\\.[^\\s]+)|(https?://[^\\s]+))', ' ', str(text))\n",
    "    \n",
    "    # Remove hashtags\n",
    "    # only removing the hash # sign from the word, we believe hashtags contains useful information\n",
    "    text = re.sub(r'#', '', str(text))\n",
    "    \n",
    "    # replace consecutive non-ASCII characters with a space\n",
    "    text = re.sub(r'[^\\x00-\\x7F]+', ' ', str(text))\n",
    "    \n",
    "    # Clean the text\n",
    "    text = re.sub(r'<br />', ' ', str(text))\n",
    "    return text"
   ]
  },
  {
   "cell_type": "code",
   "execution_count": 4,
   "metadata": {},
   "outputs": [
    {
     "data": {
      "text/plain": [
       "\"Like TWO ARABIAN KNIGHTS, a couple of American soldiers attempt the daring rescue of a Middle Eastern princess from a loveless betrothal.  Producer Howard Hughes became a Hollywood power with the very successful release of this, his third motion picture. Thought lost for decades, this wonderful silent comedy has recently been rediscovered & restored and given a splendid orchestral score by Robert Israel. Directed with verve by Lewis Milestone and greatly benefiting from William Cameron Menzies' art direction, the high jinks & high adventure of this antique buddy film are once again ready to delight the viewing audience.  Clean-cut private William Boyd and plug-ugly sergeant Louis Wolheim battle Germans, Arabs and each other across Europe, the Mediterranean and into Palestine. They make a terrific comedy duo, constantly involved in one-upmanship and dangerous exploits whether in a POW camp, on a prisoner train, aboard a tramp steamer, or in a Moslem souk and emir's palace. Wolheim, with his hilariously expressive face, has a slight advantage in the scene stealing category, while Boyd has the upper hand in the romantics department.  Mary Astor, as the endangered princess, is the willing recipient of Boyd's attentions. Her role doesn't give her a great deal to do except look lovely & alarmed, but these she carries off admirably.  In the supporting cast, Michael Visaroff is the black hearted ship's captain who comes into conflict with Boyd & Wolheim; look fast for Boris Karloff as his purser. Dashing Ian Keith nicely plays the young Arab chieftain who will stop at nothing to make Astor his bride.  At various points throughout the movie the viewer will notice the deterioration of the film stock, showing that TWO ARABIAN KNIGHTS was indeed rescued, like the princess, just in time.\""
      ]
     },
     "execution_count": 4,
     "metadata": {},
     "output_type": "execute_result"
    }
   ],
   "source": [
    "# Clean the unsup text\n",
    "clean_text = clean_text(unsup_text)\n",
    "clean_text"
   ]
  },
  {
   "cell_type": "code",
   "execution_count": 5,
   "metadata": {},
   "outputs": [],
   "source": [
    "# word tokenize, removal stop words and stemming\n",
    "stemmer = SnowballStemmer(\"english\", ignore_stopwords=True)\n",
    "result = []\n",
    "for word in word_tokenize(clean_text):\n",
    "    if word.isalpha():\n",
    "        if word not in stop_words:\n",
    "            result.append(stemmer.stem(word))\n",
    "string = ' '.join(result)"
   ]
  },
  {
   "cell_type": "code",
   "execution_count": 6,
   "metadata": {},
   "outputs": [],
   "source": [
    "# Transform to sequence\n",
    "max_features = 5000\n",
    "maxlen = 100\n",
    "# initialize the tokenizer with a 5000 word limit\n",
    "tokenizer = Tokenizer(num_words=max_features)\n",
    "tokenizer.fit_on_texts(string)\n",
    "vocab_size = len(tokenizer.word_index) + 1\n",
    "# list of texts to turn to sequences.\n",
    "string = tokenizer.texts_to_sequences(string)\n",
    "# padding\n",
    "str_padded_seq = pad_sequences(string, padding='post', maxlen=maxlen)"
   ]
  },
  {
   "cell_type": "code",
   "execution_count": 7,
   "metadata": {},
   "outputs": [
    {
     "name": "stdout",
     "output_type": "stream",
     "text": [
      "loading model......\n"
     ]
    },
    {
     "name": "stderr",
     "output_type": "stream",
     "text": [
      "/usr/local/lib/python3.7/site-packages/ipykernel_launcher.py:3: YAMLLoadWarning: calling yaml.load() without Loader=... is deprecated, as the default Loader is unsafe. Please read https://msg.pyyaml.org/load for full details.\n",
      "  This is separate from the ipykernel package so we can avoid doing imports until\n"
     ]
    },
    {
     "name": "stdout",
     "output_type": "stream",
     "text": [
      "loading weights......\n"
     ]
    }
   ],
   "source": [
    "print('loading model......')\n",
    "with open('model/lstm.yml', 'r') as f:\n",
    "    yaml_string = yaml.load(f)\n",
    "model = model_from_yaml(yaml_string)\n",
    "\n",
    "print('loading weights......')\n",
    "model.load_weights('model/lstm.h5')\n",
    "model.compile(loss='binary_crossentropy', optimizer='adam', metrics=['accuracy'])"
   ]
  },
  {
   "cell_type": "code",
   "execution_count": 8,
   "metadata": {},
   "outputs": [
    {
     "name": "stdout",
     "output_type": "stream",
     "text": [
      "Like TWO ARABIAN KNIGHTS, a couple of American soldiers attempt the daring rescue of a Middle Eastern princess from a loveless betrothal.<br /><br />Producer Howard Hughes became a Hollywood power with the very successful release of this, his third motion picture. Thought lost for decades, this wonderful silent comedy has recently been rediscovered & restored and given a splendid orchestral score by Robert Israel. Directed with verve by Lewis Milestone and greatly benefiting from William Cameron Menzies' art direction, the high jinks & high adventure of this antique buddy film are once again ready to delight the viewing audience.<br /><br />Clean-cut private William Boyd and plug-ugly sergeant Louis Wolheim battle Germans, Arabs and each other across Europe, the Mediterranean and into Palestine. They make a terrific comedy duo, constantly involved in one-upmanship and dangerous exploits whether in a POW camp, on a prisoner train, aboard a tramp steamer, or in a Moslem souk and emir's palace. Wolheim, with his hilariously expressive face, has a slight advantage in the scene stealing category, while Boyd has the upper hand in the romantics department.<br /><br />Mary Astor, as the endangered princess, is the willing recipient of Boyd's attentions. Her role doesn't give her a great deal to do except look lovely & alarmed, but these she carries off admirably.<br /><br />In the supporting cast, Michael Visaroff is the black hearted ship's captain who comes into conflict with Boyd & Wolheim; look fast for Boris Karloff as his purser. Dashing Ian Keith nicely plays the young Arab chieftain who will stop at nothing to make Astor his bride.<br /><br />At various points throughout the movie the viewer will notice the deterioration of the film stock, showing that TWO ARABIAN KNIGHTS was indeed rescued, like the princess, just in time. \n",
      " positive\n"
     ]
    }
   ],
   "source": [
    "result = model.predict_classes(str_padded_seq)\n",
    "if result[0]==1:\n",
    "    print(unsup_text, '\\n positive')\n",
    "elif result[0]==0:\n",
    "    print(unsup_text, '\\n negative')"
   ]
  },
  {
   "cell_type": "code",
   "execution_count": null,
   "metadata": {},
   "outputs": [],
   "source": []
  }
 ],
 "metadata": {
  "kernelspec": {
   "display_name": "Python 3",
   "language": "python",
   "name": "python3"
  },
  "language_info": {
   "codemirror_mode": {
    "name": "ipython",
    "version": 3
   },
   "file_extension": ".py",
   "mimetype": "text/x-python",
   "name": "python",
   "nbconvert_exporter": "python",
   "pygments_lexer": "ipython3",
   "version": "3.7.4"
  }
 },
 "nbformat": 4,
 "nbformat_minor": 4
}
